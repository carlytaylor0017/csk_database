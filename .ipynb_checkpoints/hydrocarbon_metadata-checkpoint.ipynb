{
 "cells": [
  {
   "cell_type": "code",
   "execution_count": 9,
   "metadata": {},
   "outputs": [
    {
     "name": "stdout",
     "output_type": "stream",
     "text": [
      "/home/carlywolfbrandt/galvanize/assignments/csk_database\n"
     ]
    }
   ],
   "source": [
    "cd /home/carlywolfbrandt/galvanize/assignments/csk_database"
   ]
  },
  {
   "cell_type": "code",
   "execution_count": 10,
   "metadata": {},
   "outputs": [
    {
     "name": "stdout",
     "output_type": "stream",
     "text": [
      "\u001b[0m\u001b[01;34mcapstone_I_guide\u001b[0m/           hydrocarbon_metadata.ipynb  \u001b[01;31mversion.sdf.gz\u001b[0m\n",
      "cleaning_smiles_data.ipynb  \u001b[01;31mhydrocarbon_smiles_data.gz\u001b[0m  \u001b[01;31mversion.smi.gz\u001b[0m\n"
     ]
    }
   ],
   "source": [
    "ls"
   ]
  },
  {
   "cell_type": "code",
   "execution_count": 11,
   "metadata": {},
   "outputs": [],
   "source": [
    "import pandas as pd\n",
    "import numpy as np\n",
    "import string\n",
    "import pandas as pd\n",
    "import matplotlib.pyplot as plt\n",
    "from collections import Counter\n",
    "import seaborn as sns\n",
    "import os\n",
    "import requests\n",
    "import json \n",
    "from pandas.io.json import json_normalize"
   ]
  },
  {
   "cell_type": "code",
   "execution_count": 12,
   "metadata": {},
   "outputs": [],
   "source": [
    "df = pd.read_csv('hydrocarbon_smiles_data.gz', compression='gzip', header=0, index_col = 0, sep=',', quotechar='\"')"
   ]
  },
  {
   "cell_type": "code",
   "execution_count": 13,
   "metadata": {},
   "outputs": [
    {
     "data": {
      "text/html": [
       "<div>\n",
       "<style scoped>\n",
       "    .dataframe tbody tr th:only-of-type {\n",
       "        vertical-align: middle;\n",
       "    }\n",
       "\n",
       "    .dataframe tbody tr th {\n",
       "        vertical-align: top;\n",
       "    }\n",
       "\n",
       "    .dataframe thead th {\n",
       "        text-align: right;\n",
       "    }\n",
       "</style>\n",
       "<table border=\"1\" class=\"dataframe\">\n",
       "  <thead>\n",
       "    <tr style=\"text-align: right;\">\n",
       "      <th></th>\n",
       "      <th>isosmiles</th>\n",
       "      <th>version_id</th>\n",
       "      <th>parent_id</th>\n",
       "    </tr>\n",
       "  </thead>\n",
       "  <tbody>\n",
       "    <tr>\n",
       "      <th>1765</th>\n",
       "      <td>c1ccccc1</td>\n",
       "      <td>479848</td>\n",
       "      <td>479848</td>\n",
       "    </tr>\n",
       "    <tr>\n",
       "      <th>4483</th>\n",
       "      <td>Cc1ccccc1C</td>\n",
       "      <td>299961464</td>\n",
       "      <td>299961464</td>\n",
       "    </tr>\n",
       "    <tr>\n",
       "      <th>7089</th>\n",
       "      <td>CCc1ccccc1</td>\n",
       "      <td>475202</td>\n",
       "      <td>475202</td>\n",
       "    </tr>\n",
       "    <tr>\n",
       "      <th>8798</th>\n",
       "      <td>C1c2ccccc12</td>\n",
       "      <td>301251831</td>\n",
       "      <td>301251831</td>\n",
       "    </tr>\n",
       "    <tr>\n",
       "      <th>12266</th>\n",
       "      <td>CCc1ccccc1C</td>\n",
       "      <td>475997</td>\n",
       "      <td>475997</td>\n",
       "    </tr>\n",
       "  </tbody>\n",
       "</table>\n",
       "</div>"
      ],
      "text/plain": [
       "         isosmiles  version_id  parent_id\n",
       "1765      c1ccccc1      479848     479848\n",
       "4483    Cc1ccccc1C   299961464  299961464\n",
       "7089    CCc1ccccc1      475202     475202\n",
       "8798   C1c2ccccc12   301251831  301251831\n",
       "12266  CCc1ccccc1C      475997     475997"
      ]
     },
     "execution_count": 13,
     "metadata": {},
     "output_type": "execute_result"
    }
   ],
   "source": [
    "df.head()"
   ]
  },
  {
   "cell_type": "code",
   "execution_count": 14,
   "metadata": {},
   "outputs": [
    {
     "data": {
      "text/plain": [
       "isosmiles     2135\n",
       "version_id    2135\n",
       "parent_id     2135\n",
       "dtype: int64"
      ]
     },
     "execution_count": 14,
     "metadata": {},
     "output_type": "execute_result"
    }
   ],
   "source": [
    "df.count()"
   ]
  },
  {
   "cell_type": "code",
   "execution_count": 17,
   "metadata": {},
   "outputs": [
    {
     "data": {
      "text/html": [
       "<div>\n",
       "<style scoped>\n",
       "    .dataframe tbody tr th:only-of-type {\n",
       "        vertical-align: middle;\n",
       "    }\n",
       "\n",
       "    .dataframe tbody tr th {\n",
       "        vertical-align: top;\n",
       "    }\n",
       "\n",
       "    .dataframe thead th {\n",
       "        text-align: right;\n",
       "    }\n",
       "</style>\n",
       "<table border=\"1\" class=\"dataframe\">\n",
       "  <thead>\n",
       "    <tr style=\"text-align: right;\">\n",
       "      <th></th>\n",
       "      <th>isosmiles</th>\n",
       "      <th>version_id</th>\n",
       "      <th>parent_id</th>\n",
       "      <th>pubchem_url</th>\n",
       "      <th>image_url</th>\n",
       "    </tr>\n",
       "  </thead>\n",
       "  <tbody>\n",
       "    <tr>\n",
       "      <th>1765</th>\n",
       "      <td>c1ccccc1</td>\n",
       "      <td>479848</td>\n",
       "      <td>479848</td>\n",
       "      <td>https://pubchem.ncbi.nlm.nih.gov/rest/pug/compound/smiles/c1ccccc1/JSON</td>\n",
       "      <td>https://pubchem.ncbi.nlm.nih.gov/rest/pug/compound/smiles/c1ccccc1/PNG</td>\n",
       "    </tr>\n",
       "    <tr>\n",
       "      <th>4483</th>\n",
       "      <td>Cc1ccccc1C</td>\n",
       "      <td>299961464</td>\n",
       "      <td>299961464</td>\n",
       "      <td>https://pubchem.ncbi.nlm.nih.gov/rest/pug/compound/smiles/Cc1ccccc1C/JSON</td>\n",
       "      <td>https://pubchem.ncbi.nlm.nih.gov/rest/pug/compound/smiles/Cc1ccccc1C/PNG</td>\n",
       "    </tr>\n",
       "    <tr>\n",
       "      <th>7089</th>\n",
       "      <td>CCc1ccccc1</td>\n",
       "      <td>475202</td>\n",
       "      <td>475202</td>\n",
       "      <td>https://pubchem.ncbi.nlm.nih.gov/rest/pug/compound/smiles/CCc1ccccc1/JSON</td>\n",
       "      <td>https://pubchem.ncbi.nlm.nih.gov/rest/pug/compound/smiles/CCc1ccccc1/PNG</td>\n",
       "    </tr>\n",
       "    <tr>\n",
       "      <th>8798</th>\n",
       "      <td>C1c2ccccc12</td>\n",
       "      <td>301251831</td>\n",
       "      <td>301251831</td>\n",
       "      <td>https://pubchem.ncbi.nlm.nih.gov/rest/pug/compound/smiles/C1c2ccccc12/JSON</td>\n",
       "      <td>https://pubchem.ncbi.nlm.nih.gov/rest/pug/compound/smiles/C1c2ccccc12/PNG</td>\n",
       "    </tr>\n",
       "    <tr>\n",
       "      <th>12266</th>\n",
       "      <td>CCc1ccccc1C</td>\n",
       "      <td>475997</td>\n",
       "      <td>475997</td>\n",
       "      <td>https://pubchem.ncbi.nlm.nih.gov/rest/pug/compound/smiles/CCc1ccccc1C/JSON</td>\n",
       "      <td>https://pubchem.ncbi.nlm.nih.gov/rest/pug/compound/smiles/CCc1ccccc1C/PNG</td>\n",
       "    </tr>\n",
       "  </tbody>\n",
       "</table>\n",
       "</div>"
      ],
      "text/plain": [
       "         isosmiles  version_id  parent_id  \\\n",
       "1765   c1ccccc1     479848      479848      \n",
       "4483   Cc1ccccc1C   299961464   299961464   \n",
       "7089   CCc1ccccc1   475202      475202      \n",
       "8798   C1c2ccccc12  301251831   301251831   \n",
       "12266  CCc1ccccc1C  475997      475997      \n",
       "\n",
       "                                                                      pubchem_url  \\\n",
       "1765   https://pubchem.ncbi.nlm.nih.gov/rest/pug/compound/smiles/c1ccccc1/JSON      \n",
       "4483   https://pubchem.ncbi.nlm.nih.gov/rest/pug/compound/smiles/Cc1ccccc1C/JSON    \n",
       "7089   https://pubchem.ncbi.nlm.nih.gov/rest/pug/compound/smiles/CCc1ccccc1/JSON    \n",
       "8798   https://pubchem.ncbi.nlm.nih.gov/rest/pug/compound/smiles/C1c2ccccc12/JSON   \n",
       "12266  https://pubchem.ncbi.nlm.nih.gov/rest/pug/compound/smiles/CCc1ccccc1C/JSON   \n",
       "\n",
       "                                                                       image_url  \n",
       "1765   https://pubchem.ncbi.nlm.nih.gov/rest/pug/compound/smiles/c1ccccc1/PNG     \n",
       "4483   https://pubchem.ncbi.nlm.nih.gov/rest/pug/compound/smiles/Cc1ccccc1C/PNG   \n",
       "7089   https://pubchem.ncbi.nlm.nih.gov/rest/pug/compound/smiles/CCc1ccccc1/PNG   \n",
       "8798   https://pubchem.ncbi.nlm.nih.gov/rest/pug/compound/smiles/C1c2ccccc12/PNG  \n",
       "12266  https://pubchem.ncbi.nlm.nih.gov/rest/pug/compound/smiles/CCc1ccccc1C/PNG  "
      ]
     },
     "execution_count": 17,
     "metadata": {},
     "output_type": "execute_result"
    }
   ],
   "source": [
    "pd.set_option('display.max_colwidth', -1)\n",
    "df['image_url'] = 'https://pubchem.ncbi.nlm.nih.gov/rest/pug/compound/smiles/' + df['isosmiles'] + '/PNG'\n",
    "df.head()"
   ]
  },
  {
   "cell_type": "code",
   "execution_count": 28,
   "metadata": {},
   "outputs": [],
   "source": [
    "df.index = range(len(df.index))\n",
    "directory='/home/carlywolfbrandt/galvanize/assignments/csk_database/images/'\n",
    "for i in range(len(df)):\n",
    "    r = requests.get(df['image_url'][i])\n",
    "    with open(directory + str(df['version_id'][i])+\".png\", 'wb') as f:\n",
    "                    f.write(r.content)"
   ]
  },
  {
   "cell_type": "code",
   "execution_count": 20,
   "metadata": {},
   "outputs": [
    {
     "data": {
      "text/html": [
       "<div>\n",
       "<style scoped>\n",
       "    .dataframe tbody tr th:only-of-type {\n",
       "        vertical-align: middle;\n",
       "    }\n",
       "\n",
       "    .dataframe tbody tr th {\n",
       "        vertical-align: top;\n",
       "    }\n",
       "\n",
       "    .dataframe thead th {\n",
       "        text-align: right;\n",
       "    }\n",
       "</style>\n",
       "<table border=\"1\" class=\"dataframe\">\n",
       "  <thead>\n",
       "    <tr style=\"text-align: right;\">\n",
       "      <th></th>\n",
       "      <th>isosmiles</th>\n",
       "      <th>version_id</th>\n",
       "      <th>parent_id</th>\n",
       "      <th>image_url</th>\n",
       "      <th>json_url</th>\n",
       "    </tr>\n",
       "  </thead>\n",
       "  <tbody>\n",
       "    <tr>\n",
       "      <th>1765</th>\n",
       "      <td>c1ccccc1</td>\n",
       "      <td>479848</td>\n",
       "      <td>479848</td>\n",
       "      <td>https://pubchem.ncbi.nlm.nih.gov/rest/pug/compound/smiles/c1ccccc1/PNG</td>\n",
       "      <td>https://pubchem.ncbi.nlm.nih.gov/rest/pug/compound/smiles/c1ccccc1/JSON</td>\n",
       "    </tr>\n",
       "    <tr>\n",
       "      <th>4483</th>\n",
       "      <td>Cc1ccccc1C</td>\n",
       "      <td>299961464</td>\n",
       "      <td>299961464</td>\n",
       "      <td>https://pubchem.ncbi.nlm.nih.gov/rest/pug/compound/smiles/Cc1ccccc1C/PNG</td>\n",
       "      <td>https://pubchem.ncbi.nlm.nih.gov/rest/pug/compound/smiles/Cc1ccccc1C/JSON</td>\n",
       "    </tr>\n",
       "    <tr>\n",
       "      <th>7089</th>\n",
       "      <td>CCc1ccccc1</td>\n",
       "      <td>475202</td>\n",
       "      <td>475202</td>\n",
       "      <td>https://pubchem.ncbi.nlm.nih.gov/rest/pug/compound/smiles/CCc1ccccc1/PNG</td>\n",
       "      <td>https://pubchem.ncbi.nlm.nih.gov/rest/pug/compound/smiles/CCc1ccccc1/JSON</td>\n",
       "    </tr>\n",
       "    <tr>\n",
       "      <th>8798</th>\n",
       "      <td>C1c2ccccc12</td>\n",
       "      <td>301251831</td>\n",
       "      <td>301251831</td>\n",
       "      <td>https://pubchem.ncbi.nlm.nih.gov/rest/pug/compound/smiles/C1c2ccccc12/PNG</td>\n",
       "      <td>https://pubchem.ncbi.nlm.nih.gov/rest/pug/compound/smiles/C1c2ccccc12/JSON</td>\n",
       "    </tr>\n",
       "    <tr>\n",
       "      <th>12266</th>\n",
       "      <td>CCc1ccccc1C</td>\n",
       "      <td>475997</td>\n",
       "      <td>475997</td>\n",
       "      <td>https://pubchem.ncbi.nlm.nih.gov/rest/pug/compound/smiles/CCc1ccccc1C/PNG</td>\n",
       "      <td>https://pubchem.ncbi.nlm.nih.gov/rest/pug/compound/smiles/CCc1ccccc1C/JSON</td>\n",
       "    </tr>\n",
       "  </tbody>\n",
       "</table>\n",
       "</div>"
      ],
      "text/plain": [
       "         isosmiles  version_id  parent_id  \\\n",
       "1765   c1ccccc1     479848      479848      \n",
       "4483   Cc1ccccc1C   299961464   299961464   \n",
       "7089   CCc1ccccc1   475202      475202      \n",
       "8798   C1c2ccccc12  301251831   301251831   \n",
       "12266  CCc1ccccc1C  475997      475997      \n",
       "\n",
       "                                                                       image_url  \\\n",
       "1765   https://pubchem.ncbi.nlm.nih.gov/rest/pug/compound/smiles/c1ccccc1/PNG      \n",
       "4483   https://pubchem.ncbi.nlm.nih.gov/rest/pug/compound/smiles/Cc1ccccc1C/PNG    \n",
       "7089   https://pubchem.ncbi.nlm.nih.gov/rest/pug/compound/smiles/CCc1ccccc1/PNG    \n",
       "8798   https://pubchem.ncbi.nlm.nih.gov/rest/pug/compound/smiles/C1c2ccccc12/PNG   \n",
       "12266  https://pubchem.ncbi.nlm.nih.gov/rest/pug/compound/smiles/CCc1ccccc1C/PNG   \n",
       "\n",
       "                                                                         json_url  \n",
       "1765   https://pubchem.ncbi.nlm.nih.gov/rest/pug/compound/smiles/c1ccccc1/JSON     \n",
       "4483   https://pubchem.ncbi.nlm.nih.gov/rest/pug/compound/smiles/Cc1ccccc1C/JSON   \n",
       "7089   https://pubchem.ncbi.nlm.nih.gov/rest/pug/compound/smiles/CCc1ccccc1/JSON   \n",
       "8798   https://pubchem.ncbi.nlm.nih.gov/rest/pug/compound/smiles/C1c2ccccc12/JSON  \n",
       "12266  https://pubchem.ncbi.nlm.nih.gov/rest/pug/compound/smiles/CCc1ccccc1C/JSON  "
      ]
     },
     "execution_count": 20,
     "metadata": {},
     "output_type": "execute_result"
    }
   ],
   "source": [
    "pd.set_option('display.max_colwidth', -1)\n",
    "df['json_url'] = 'https://pubchem.ncbi.nlm.nih.gov/rest/pug/compound/smiles/' + df['isosmiles'] + '/JSON'\n",
    "df.head()"
   ]
  },
  {
   "cell_type": "code",
   "execution_count": 23,
   "metadata": {},
   "outputs": [
    {
     "ename": "AttributeError",
     "evalue": "'function' object has no attribute 'load'",
     "output_type": "error",
     "traceback": [
      "\u001b[0;31m---------------------------------------------------------------------------\u001b[0m",
      "\u001b[0;31mAttributeError\u001b[0m                            Traceback (most recent call last)",
      "\u001b[0;32m<ipython-input-23-2c8bc1e73ef0>\u001b[0m in \u001b[0;36m<module>\u001b[0;34m\u001b[0m\n\u001b[1;32m      2\u001b[0m \u001b[0;32mfor\u001b[0m \u001b[0mi\u001b[0m \u001b[0;32min\u001b[0m \u001b[0mrange\u001b[0m\u001b[0;34m(\u001b[0m\u001b[0mlen\u001b[0m\u001b[0;34m(\u001b[0m\u001b[0mdf\u001b[0m\u001b[0;34m)\u001b[0m\u001b[0;34m)\u001b[0m\u001b[0;34m:\u001b[0m\u001b[0;34m\u001b[0m\u001b[0;34m\u001b[0m\u001b[0m\n\u001b[1;32m      3\u001b[0m     \u001b[0mr\u001b[0m \u001b[0;34m=\u001b[0m \u001b[0mrequests\u001b[0m\u001b[0;34m.\u001b[0m\u001b[0mget\u001b[0m\u001b[0;34m(\u001b[0m\u001b[0mdf\u001b[0m\u001b[0;34m[\u001b[0m\u001b[0;34m'json_url'\u001b[0m\u001b[0;34m]\u001b[0m\u001b[0;34m[\u001b[0m\u001b[0mi\u001b[0m\u001b[0;34m]\u001b[0m\u001b[0;34m)\u001b[0m\u001b[0;34m\u001b[0m\u001b[0;34m\u001b[0m\u001b[0m\n\u001b[0;32m----> 4\u001b[0;31m     \u001b[0mdata\u001b[0m \u001b[0;34m=\u001b[0m \u001b[0mr\u001b[0m\u001b[0;34m.\u001b[0m\u001b[0mjson\u001b[0m\u001b[0;34m.\u001b[0m\u001b[0mload\u001b[0m\u001b[0;34m(\u001b[0m\u001b[0;34m)\u001b[0m\u001b[0;34m\u001b[0m\u001b[0;34m\u001b[0m\u001b[0m\n\u001b[0m\u001b[1;32m      5\u001b[0m \u001b[0;34m\u001b[0m\u001b[0m\n\u001b[1;32m      6\u001b[0m \u001b[0;34m\u001b[0m\u001b[0m\n",
      "\u001b[0;31mAttributeError\u001b[0m: 'function' object has no attribute 'load'"
     ]
    }
   ],
   "source": [
    "df.index = range(len(df.index))\n",
    "for i in range(len(df)):\n",
    "    r = requests.get(df['json_url'][i])\n",
    "    data = r.json()\n",
    "    with open(data) as f:\n",
    "        data = json.load(f)\n",
    "\n",
    "df = json_normalize(data['PC_Compounds'])\n",
    "df.head()"
   ]
  }
 ],
 "metadata": {
  "kernelspec": {
   "display_name": "Python 3",
   "language": "python",
   "name": "python3"
  },
  "language_info": {
   "codemirror_mode": {
    "name": "ipython",
    "version": 3
   },
   "file_extension": ".py",
   "mimetype": "text/x-python",
   "name": "python",
   "nbconvert_exporter": "python",
   "pygments_lexer": "ipython3",
   "version": "3.7.3"
  }
 },
 "nbformat": 4,
 "nbformat_minor": 2
}
